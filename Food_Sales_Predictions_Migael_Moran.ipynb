{
  "nbformat": 4,
  "nbformat_minor": 0,
  "metadata": {
    "colab": {
      "name": "Food Sales Predictions.Migael Moran.ipynb",
      "provenance": [],
      "authorship_tag": "ABX9TyOG93v8Sp+tDvBXPYR2JyPo",
      "include_colab_link": true
    },
    "kernelspec": {
      "name": "python3",
      "display_name": "Python 3"
    },
    "language_info": {
      "name": "python"
    }
  },
  "cells": [
    {
      "cell_type": "markdown",
      "metadata": {
        "id": "view-in-github",
        "colab_type": "text"
      },
      "source": [
        "<a href=\"https://colab.research.google.com/github/mmcasares/Food-Sales-Predictions/blob/main/Food_Sales_Predictions_Migael_Moran.ipynb\" target=\"_parent\"><img src=\"https://colab.research.google.com/assets/colab-badge.svg\" alt=\"Open In Colab\"/></a>"
      ]
    },
    {
      "cell_type": "code",
      "execution_count": null,
      "metadata": {
        "id": "qIy8d05C4a-1"
      },
      "outputs": [],
      "source": [
        ""
      ]
    }
  ]
}